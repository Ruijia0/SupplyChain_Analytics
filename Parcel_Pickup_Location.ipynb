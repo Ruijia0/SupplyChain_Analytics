{
  "nbformat": 4,
  "nbformat_minor": 0,
  "metadata": {
    "colab": {
      "provenance": [],
      "authorship_tag": "ABX9TyMvfLHDRL0FGuTtV+FVcNaq",
      "include_colab_link": true
    },
    "kernelspec": {
      "name": "python3",
      "display_name": "Python 3"
    },
    "language_info": {
      "name": "python"
    }
  },
  "cells": [
    {
      "cell_type": "markdown",
      "metadata": {
        "id": "view-in-github",
        "colab_type": "text"
      },
      "source": [
        "<a href=\"https://colab.research.google.com/github/Ruijia0/SupplyChain_Analytics/blob/main/Parcel_Pickup_Location.ipynb\" target=\"_parent\"><img src=\"https://colab.research.google.com/assets/colab-badge.svg\" alt=\"Open In Colab\"/></a>"
      ]
    },
    {
      "cell_type": "code",
      "execution_count": null,
      "metadata": {
        "id": "bcECYNX0DaUi",
        "outputId": "98d79cba-eb41-41d0-d05c-1d2a7218f4dd",
        "colab": {
          "base_uri": "https://localhost:8080/"
        }
      },
      "outputs": [
        {
          "output_type": "stream",
          "name": "stdout",
          "text": [
            "Optimal Haversine Location: [ 33.78174507 -84.38737123]\n",
            "Optimal Driving Location: [ 33.78174507 -84.38737123]\n"
          ]
        }
      ],
      "source": [
        "import pandas as pd\n",
        "import numpy as np\n",
        "import requests\n",
        "from scipy.optimize import minimize\n",
        "import folium\n",
        "from math import radians, sin, cos, sqrt, atan2\n",
        "\n",
        "def haversine(lat1, lon1, lat2, lon2):\n",
        "    # Convert latitude and longitude from degrees to radians\n",
        "    lat1, lon1, lat2, lon2 = map(radians, [lat1, lon1, lat2, lon2])\n",
        "\n",
        "    # Haversine formula\n",
        "    dlat = lat2 - lat1\n",
        "    dlon = lon2 - lon1\n",
        "    a = sin(dlat / 2)**2 + cos(lat1) * cos(lat2) * sin(dlon / 2)**2\n",
        "    c = 2 * atan2(sqrt(a), sqrt(1 - a))\n",
        "    r = 6371  # Radius of Earth in kilometers\n",
        "    return r * c\n",
        "\n",
        "# Step 1: Fetch the Wikipedia data (manually extract or scrape)\n",
        "data = {\n",
        "    \"Neighborhood\": [\"Buckhead\", \"Midtown\", \"Downtown\", \"Westside\", \"Old Fourth Ward\", \"Virginia-Highland\", \"Grant Park\", \"East Atlanta\", \"Brookhaven\", \"Candler Park\"],\n",
        "    \"Population\": [87000, 42000, 26000, 18000, 15000, 14000, 12000, 11000, 9500, 8700],\n",
        "    \"Latitude\": [33.8486, 33.7814, 33.7550, 33.7845, 33.7594, 33.7765, 33.7330, 33.7428, 33.8604, 33.7652],\n",
        "    \"Longitude\": [-84.3846, -84.3877, -84.3900, -84.4112, -84.3733, -84.3561, -84.3735, -84.3484, -84.3390, -84.3302]\n",
        "}\n",
        "\n",
        "# Convert to DataFrame\n",
        "df = pd.DataFrame(data)\n",
        "\n",
        "# Step 2: Define objective function for Haversine distance\n",
        "def total_haversine_distance(coords):\n",
        "    lat, lon = coords\n",
        "    return sum(\n",
        "        haversine(lat, lon, row.Latitude, row.Longitude) * row.Population\n",
        "        for _, row in df.iterrows()\n",
        "    )\n",
        "\n",
        "# Minimize the total Haversine distance\n",
        "initial_guess = [33.7490, -84.3880]  # Initial guess: Atlanta city center\n",
        "result_haversine = minimize(\n",
        "    total_haversine_distance, initial_guess, method=\"L-BFGS-B\",\n",
        "    bounds=[(33.7, 33.9), (-84.5, -84.3)]\n",
        ")\n",
        "optimal_haversine_location = result_haversine.x\n",
        "\n",
        "# Step 3: Use driving distance API (mocked for simplicity)\n",
        "def total_driving_distance(coords):\n",
        "    lat, lon = coords\n",
        "    # Mock driving distances using Haversine (replace with actual API calls if needed)\n",
        "    return total_haversine_distance(coords)\n",
        "\n",
        "result_driving = minimize(\n",
        "    total_driving_distance, initial_guess, method=\"L-BFGS-B\",\n",
        "    bounds=[(33.7, 33.9), (-84.5, -84.3)]\n",
        ")\n",
        "optimal_driving_location = result_driving.x\n",
        "\n",
        "# Step 4: Visualize results on a map\n",
        "map = folium.Map(location=[33.7490, -84.3880], zoom_start=12)\n",
        "\n",
        "# Add neighborhood markers\n",
        "for _, row in df.iterrows():\n",
        "    folium.Marker(\n",
        "        location=[row.Latitude, row.Longitude],\n",
        "        popup=f\"{row.Neighborhood}: {row.Population}\",\n",
        "        icon=folium.Icon(color=\"blue\", icon=\"info-sign\")\n",
        "    ).add_to(map)\n",
        "\n",
        "# Add optimal locations\n",
        "folium.Marker(\n",
        "    location=optimal_haversine_location,\n",
        "    popup=\"Optimal Haversine Location\",\n",
        "    icon=folium.Icon(color=\"green\", icon=\"ok-sign\")\n",
        ").add_to(map)\n",
        "\n",
        "folium.Marker(\n",
        "    location=optimal_driving_location,\n",
        "    popup=\"Optimal Driving Location\",\n",
        "    icon=folium.Icon(color=\"red\", icon=\"ok-sign\")\n",
        ").add_to(map)\n",
        "\n",
        "# Save map to an HTML file\n",
        "map.save(\"optimal_parcel_pickup_locations.html\")\n",
        "\n",
        "# Output results\n",
        "print(\"Optimal Haversine Location:\", optimal_haversine_location)\n",
        "print(\"Optimal Driving Location:\", optimal_driving_location)"
      ]
    }
  ]
}