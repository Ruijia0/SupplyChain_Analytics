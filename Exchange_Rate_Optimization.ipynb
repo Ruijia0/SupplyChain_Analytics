{
  "nbformat": 4,
  "nbformat_minor": 0,
  "metadata": {
    "colab": {
      "provenance": [],
      "authorship_tag": "ABX9TyO42xaKGkqvv9T21S15RhXe",
      "include_colab_link": true
    },
    "kernelspec": {
      "name": "python3",
      "display_name": "Python 3"
    },
    "language_info": {
      "name": "python"
    }
  },
  "cells": [
    {
      "cell_type": "markdown",
      "metadata": {
        "id": "view-in-github",
        "colab_type": "text"
      },
      "source": [
        "<a href=\"https://colab.research.google.com/github/Ruijia0/SupplyChain_Analytics/blob/main/Exchange_Rate_Optimization.ipynb\" target=\"_parent\"><img src=\"https://colab.research.google.com/assets/colab-badge.svg\" alt=\"Open In Colab\"/></a>"
      ]
    },
    {
      "cell_type": "code",
      "execution_count": 1,
      "metadata": {
        "colab": {
          "base_uri": "https://localhost:8080/"
        },
        "id": "WPRNUwBzOSog",
        "outputId": "e8a672ee-6add-4ab6-dbee-be5126dc9427"
      },
      "outputs": [
        {
          "output_type": "stream",
          "name": "stdout",
          "text": [
            "Plant Open Frequencies: [0.48 0.4  0.51 0.48 0.53]\n",
            "Strategies: {'High Robustness': array([0, 0, 0, 0, 0]), 'Balanced Robustness': array([0, 0, 1, 0, 1]), 'Flexible': array([1, 0, 1, 1, 1])}\n",
            "Strategy Evaluations: {'High Robustness': {'mean_cost': 0.0, 'std_cost': 0.0}, 'Balanced Robustness': {'mean_cost': 2.1033401769456694, 'std_cost': 0.25333182074732313}, 'Flexible': {'mean_cost': 4.405465275831245, 'std_cost': 0.41475206489600075}}\n",
            "Recommended Strategy: High Robustness\n"
          ]
        }
      ],
      "source": [
        "import numpy as np\n",
        "from scipy.stats import multivariate_normal\n",
        "\n",
        "# Simulated exchange rate data\n",
        "np.random.seed(42)  # Seed for reproducibility\n",
        "num_samples = 100\n",
        "mean_rates = np.array([1.1, 0.9, 1.3, 1.2, 0.8])\n",
        "cov_matrix = np.array([\n",
        "    [0.02, 0.01, 0.01, 0.0, 0.0],\n",
        "    [0.01, 0.03, 0.0, 0.01, 0.0],\n",
        "    [0.01, 0.0, 0.04, 0.01, 0.0],\n",
        "    [0.0, 0.01, 0.01, 0.05, 0.0],\n",
        "    [0.0, 0.0, 0.0, 0.0, 0.03]\n",
        "])\n",
        "\n",
        "# Sample exchange rate data\n",
        "exchange_rate_samples = multivariate_normal.rvs(mean_rates, cov_matrix, size=num_samples)\n",
        "\n",
        "# Define a dummy cost optimization function (replace with actual function)\n",
        "def optimize_network(exchange_rates):\n",
        "    # Mock optimization: treat plants as binary variables, 0 = closed, 1 = open\n",
        "    # Returns a random binary array as the \"optimal\" configuration\n",
        "    return np.random.choice([0, 1], size=5)\n",
        "\n",
        "# Step 1: Sample configurations\n",
        "configurations = np.array([optimize_network(rates) for rates in exchange_rate_samples])\n",
        "\n",
        "# Step 2: Compute frequencies of plants being open\n",
        "plant_open_frequencies = configurations.mean(axis=0)\n",
        "\n",
        "# Step 3: Generate strategies based on thresholds\n",
        "def generate_strategy(threshold, frequencies):\n",
        "    return (frequencies > threshold).astype(int)\n",
        "\n",
        "strategies = {\n",
        "    \"High Robustness\": generate_strategy(0.7, plant_open_frequencies),\n",
        "    \"Balanced Robustness\": generate_strategy(0.5, plant_open_frequencies),\n",
        "    \"Flexible\": generate_strategy(0.4, plant_open_frequencies),\n",
        "}\n",
        "\n",
        "# Step 4: Evaluate strategies\n",
        "def evaluate_strategy(strategy, samples):\n",
        "    costs = []\n",
        "    for rates in samples:\n",
        "        # Cost = sum of exchange rates for open plants (replace with actual cost function)\n",
        "        cost = sum(rates * strategy)\n",
        "        costs.append(cost)\n",
        "    return {\n",
        "        \"mean_cost\": np.mean(costs),\n",
        "        \"std_cost\": np.std(costs)\n",
        "    }\n",
        "\n",
        "# Draw additional samples for evaluation\n",
        "evaluation_samples = multivariate_normal.rvs(mean_rates, cov_matrix, size=500)\n",
        "\n",
        "# Evaluate each strategy\n",
        "strategy_evaluations = {\n",
        "    name: evaluate_strategy(strategy, evaluation_samples)\n",
        "    for name, strategy in strategies.items()\n",
        "}\n",
        "\n",
        "# Final recommendation: Choose strategy with low mean and std cost\n",
        "recommended_strategy = min(strategy_evaluations, key=lambda s: (strategy_evaluations[s]['mean_cost'], strategy_evaluations[s]['std_cost']))\n",
        "\n",
        "# Results\n",
        "print(\"Plant Open Frequencies:\", plant_open_frequencies)\n",
        "print(\"Strategies:\", strategies)\n",
        "print(\"Strategy Evaluations:\", strategy_evaluations)\n",
        "print(\"Recommended Strategy:\", recommended_strategy)\n"
      ]
    }
  ]
}