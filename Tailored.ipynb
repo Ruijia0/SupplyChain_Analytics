{
  "nbformat": 4,
  "nbformat_minor": 0,
  "metadata": {
    "colab": {
      "provenance": [],
      "authorship_tag": "ABX9TyOvf6//9k6gTtHyBHa9kPQg",
      "include_colab_link": true
    },
    "kernelspec": {
      "name": "python3",
      "display_name": "Python 3"
    },
    "language_info": {
      "name": "python"
    }
  },
  "cells": [
    {
      "cell_type": "markdown",
      "metadata": {
        "id": "view-in-github",
        "colab_type": "text"
      },
      "source": [
        "<a href=\"https://colab.research.google.com/github/Ruijia0/SupplyChain_Analytics/blob/main/Tailored.ipynb\" target=\"_parent\"><img src=\"https://colab.research.google.com/assets/colab-badge.svg\" alt=\"Open In Colab\"/></a>"
      ]
    },
    {
      "cell_type": "code",
      "execution_count": 4,
      "metadata": {
        "id": "140HIr_zAKar",
        "outputId": "03b344dc-f4c1-4209-c9d8-6245abf92e30",
        "colab": {
          "base_uri": "https://localhost:8080/"
        }
      },
      "outputs": [
        {
          "output_type": "stream",
          "name": "stdout",
          "text": [
            "1) All products sourced independently:\n",
            "   Total annual cost ≈ 3271.48\n",
            "\n",
            "2) All four products sourced together (same frequency):\n",
            "   Optimal annual cost ≈ 2445.66\n",
            "\n",
            "3) Tailored aggregation (optimal partition search):\n",
            "   Minimum annual cost ≈ 2445.66\n",
            "   Best partition of products (0-based indices): [[0, 1, 2, 3]]\n"
          ]
        }
      ],
      "source": [
        "import math\n",
        "\n",
        "\n",
        "A_0 = 150  # Common (fixed) ordering cost for placing any order\n",
        "products = [\n",
        "    # Each entry is: (Annual Demand, Product-specific ordering cost, Unit cost, Holding rate)\n",
        "    {\"D\": 1000, \"A_i\": 20, \"c\": 50, \"h\": 0.15},  # Product 1\n",
        "    {\"D\":  300, \"A_i\": 25, \"c\": 60, \"h\": 0.15},  # Product 2\n",
        "    {\"D\":  100, \"A_i\": 30, \"c\": 30, \"h\": 0.15},  # Product 3\n",
        "    {\"D\":   50, \"A_i\": 50, \"c\": 30, \"h\": 0.15},  # Product 4\n",
        "]\n",
        "\n",
        "# A handy function: S_i = D_i * c_i * h_i for each product\n",
        "def holding_multiplier(p):\n",
        "    return p[\"D\"] * p[\"c\"] * p[\"h\"]\n",
        "\n",
        "# 1) Products Sourced Independently\n",
        "# For each product i, cost is:\n",
        "#     Cost_i = sqrt( 2 * (A_0 + A_i) * (D_i * c_i * h_i) )\n",
        "# Then sum across all products.\n",
        "\n",
        "cost_independent = 0.0\n",
        "for p in products:\n",
        "    A_total = A_0 + p[\"A_i\"]         # Common + specific cost\n",
        "    S_i = holding_multiplier(p)      # = D_i*c_i*h_i\n",
        "    cost_independent += math.sqrt(2 * A_total * S_i)\n",
        "\n",
        "print(\"1) All products sourced independently:\")\n",
        "print(f\"   Total annual cost ≈ {cost_independent:.2f}\\n\")\n",
        "\n",
        "\n",
        "# 2) All Four Products Sourced with the Same Frequency\n",
        "# If all 4 are in one group, each order costs (A_0 + sum of A_i),\n",
        "# and total S = sum of D_i*c_i*h_i.\n",
        "# The optimal number of orders per year is n* = sqrt( sum(S_i) / [2*(A_0 + sum(A_i))] ).\n",
        "# Total cost = (A_0 + sum(A_i)) * n* + sum(S_i)/(2*n*).\n",
        "\n",
        "sum_Ai = sum(p[\"A_i\"] for p in products)\n",
        "sum_Si = sum(holding_multiplier(p) for p in products)\n",
        "\n",
        "n_star = math.sqrt(sum_Si / (2.0 * (A_0 + sum_Ai)))\n",
        "cost_all_together = (A_0 + sum_Ai) * n_star + (sum_Si / (2.0 * n_star))\n",
        "\n",
        "print(\"2) All four products sourced together (same frequency):\")\n",
        "print(f\"   Optimal annual cost ≈ {cost_all_together:.2f}\\n\")\n",
        "\n",
        "\n",
        "# 3) Tailored (Selective) Aggregation\n",
        "# In principle, one can form any partition of the set {1,2,3,4} into groups,\n",
        "# and order each group at its own frequency. The cost for each group G is:\n",
        "#     group_cost(G) = sqrt( 2*(A_0 + sum(A_i for i in G)) * sum(S_i for i in G) )\n",
        "# Then total cost is the sum of group_cost(G) over all groups in the partition.\n",
        "#\n",
        "# For just 4 products, we can brute force all partitions. However, from theory,\n",
        "# the minimum turns out to be the same as \"all together.\" But below is a\n",
        "# general partition-based search if you want to confirm or extend it.\n",
        "\n",
        "# We'll label products by indices [0,1,2,3] in code.\n",
        "\n",
        "def group_cost(group, products):\n",
        "    \"\"\"Compute the cost for a single group of product indices.\"\"\"\n",
        "    sum_Ai_group = sum(products[i][\"A_i\"] for i in group)\n",
        "    sum_Si_group = sum(holding_multiplier(products[i]) for i in group)\n",
        "    return math.sqrt(2.0 * (A_0 + sum_Ai_group) * sum_Si_group)\n",
        "\n",
        "def all_partitions(collection):\n",
        "    \"\"\"\n",
        "    Generate all partitions of the given list 'collection' into non-empty subsets.\n",
        "    For example, for [0,1,2], it yields:\n",
        "       [[0,1,2]],\n",
        "       [[0],[1,2]], [[1],[0,2]], [[2],[0,1]],\n",
        "       [[0],[1],[2]].\n",
        "    \"\"\"\n",
        "    if len(collection) == 1:\n",
        "        yield [collection]\n",
        "        return\n",
        "\n",
        "    first = collection[0]\n",
        "    for partial in all_partitions(collection[1:]):\n",
        "        # 1) Put 'first' in its own subset\n",
        "        yield [[first]] + partial\n",
        "        # 2) Or add 'first' to any existing subset\n",
        "        for i in range(len(partial)):\n",
        "            new_partition = partial[:i] + [[first] + partial[i]] + partial[i+1:]\n",
        "            yield new_partition\n",
        "\n",
        "indices = [0,1,2,3]\n",
        "min_cost = float(\"inf\")\n",
        "best_partition = None\n",
        "\n",
        "for partition in all_partitions(indices):\n",
        "    total = 0.0\n",
        "    for group in partition:\n",
        "        total += group_cost(group, products)\n",
        "    if total < min_cost:\n",
        "        min_cost = total\n",
        "        best_partition = partition\n",
        "\n",
        "print(\"3) Tailored aggregation (optimal partition search):\")\n",
        "print(f\"   Minimum annual cost ≈ {min_cost:.2f}\")\n",
        "print(\"   Best partition of products (0-based indices):\", best_partition)\n",
        "\n",
        "# Note that 'best_partition' should come out as all products in a single group\n",
        "# (i.e., [[0,1,2,3]]) and the cost ~ 2,446, matching scenario (2).\n"
      ]
    }
  ]
}