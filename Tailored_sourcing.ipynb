{
  "nbformat": 4,
  "nbformat_minor": 0,
  "metadata": {
    "colab": {
      "provenance": [],
      "authorship_tag": "ABX9TyMcQ2BetqAx1emGhS1lLlOZ",
      "include_colab_link": true
    },
    "kernelspec": {
      "name": "python3",
      "display_name": "Python 3"
    },
    "language_info": {
      "name": "python"
    }
  },
  "cells": [
    {
      "cell_type": "markdown",
      "metadata": {
        "id": "view-in-github",
        "colab_type": "text"
      },
      "source": [
        "<a href=\"https://colab.research.google.com/github/Ruijia0/SupplyChain_Analytics/blob/main/Tailored_sourcing.ipynb\" target=\"_parent\"><img src=\"https://colab.research.google.com/assets/colab-badge.svg\" alt=\"Open In Colab\"/></a>"
      ]
    },
    {
      "cell_type": "code",
      "execution_count": 13,
      "metadata": {
        "colab": {
          "base_uri": "https://localhost:8080/"
        },
        "id": "vnZSXToyhUNM",
        "outputId": "32ed2e12-6979-41d3-c2a8-e422dab440b9"
      },
      "outputs": [
        {
          "output_type": "stream",
          "name": "stdout",
          "text": [
            "Independent Sourcing Total Cost: 3271.48\n",
            "Joint Sourcing Total Cost: 2445.66\n",
            "Tailored Aggregation Sourcing Total Cost: 6004.00\n"
          ]
        }
      ],
      "source": [
        "import math\n",
        "\n",
        "# Product data\n",
        "products = {\n",
        "    1: {\"D\": 1000, \"A_c\": 150, \"A_s\": 20, \"c\": 50, \"h\": 0.15},\n",
        "    2: {\"D\": 300,  \"A_c\": 150, \"A_s\": 25, \"c\": 60, \"h\": 0.15},\n",
        "    3: {\"D\": 100,  \"A_c\": 150, \"A_s\": 30, \"c\": 30, \"h\": 0.15},\n",
        "    4: {\"D\": 50,   \"A_c\": 150, \"A_s\": 50, \"c\": 30, \"h\": 0.15}\n",
        "}\n",
        "\n",
        "# Calculate holding cost multiplier and order cost for independent strategy\n",
        "def calculate_costs():\n",
        "    # Scenario 1: Independent Sourcing\n",
        "    total_independent_cost = 0\n",
        "    for p in products.values():\n",
        "        Q = math.sqrt((2 * p[\"D\"] * (p[\"A_c\"] + p[\"A_s\"])) / (p[\"c\"] * p[\"h\"]))\n",
        "        ordering_cost = p[\"D\"] / Q * (p[\"A_c\"] + p[\"A_s\"])\n",
        "        holding_cost = Q / 2 * p[\"c\"] * p[\"h\"]\n",
        "        total_cost = ordering_cost + holding_cost\n",
        "        total_independent_cost += total_cost\n",
        "\n",
        "    # Scenario 2: Joint Sourcing with Same Frequency\n",
        "    sum_A = sum(p[\"A_s\"] for p in products.values()) + products[1][\"A_c\"]  # Common cost counted once\n",
        "    sum_S = sum((p[\"D\"] * p[\"c\"] * p[\"h\"] / 2) for p in products.values())\n",
        "    n = math.sqrt(sum_S / sum_A)\n",
        "    total_joint_cost = sum_A * n + sum_S / n\n",
        "\n",
        "    # Scenario 3: Tailored Aggregation (simplified calculation)\n",
        "    # Calculate frequencies using specific costs only for tailored aggregation\n",
        "    freqs = {id: math.sqrt((2 * prod[\"D\"] * prod[\"A_s\"]) / (prod[\"c\"] * prod[\"h\"])) for id, prod in products.items()}\n",
        "    most_freq_product = min(freqs, key=freqs.get)\n",
        "    most_freq_rate = freqs[most_freq_product]\n",
        "\n",
        "    # Adjust frequencies based on the most frequently ordered product\n",
        "    multiples = {id: math.ceil(most_freq_rate / freq) for id, freq in freqs.items() if id != most_freq_product}\n",
        "    multiples[most_freq_product] = 1  # The most frequently ordered product itself\n",
        "\n",
        "    # Apply a less aggressive frequency adjustment\n",
        "    adjusted_freq = most_freq_rate / (1 + sum(1/mult for mult in multiples.values()) * 0.9)  # 90% efficiency factor\n",
        "\n",
        "    # Calculate total cost accounting for less optimal common cost sharing\n",
        "    total_aggregated_cost = 0\n",
        "    for id, prod in products.items():\n",
        "        freq = adjusted_freq * multiples[id]\n",
        "        Q = prod[\"D\"] / freq\n",
        "        specific_order_cost = prod[\"A_s\"] * freq\n",
        "        # Apply common cost proportionally to how often the product orders relative to the most frequent product\n",
        "        common_order_cost = prod[\"A_c\"] * freq / multiples[id]  # Less frequent application of common cost\n",
        "        holding_cost = (Q / 2) * prod[\"c\"] * prod[\"h\"]\n",
        "        total_aggregated_cost += specific_order_cost + common_order_cost + holding_cost\n",
        "\n",
        "    return total_independent_cost, total_joint_cost, total_aggregated_cost\n",
        "\n",
        "# Calculate and display results\n",
        "cost_independent, cost_joint, cost_aggregated = calculate_costs()\n",
        "print(f\"Independent Sourcing Total Cost: {cost_independent:.2f}\")\n",
        "print(f\"Joint Sourcing Total Cost: {cost_joint:.2f}\")\n",
        "print(f\"Tailored Aggregation Sourcing Total Cost: {cost_aggregated:.2f}\")\n"
      ]
    }
  ]
}